{
 "cells": [
  {
   "cell_type": "code",
   "execution_count": 1,
   "metadata": {},
   "outputs": [],
   "source": [
    "import pandas as pd\n",
    "import mysql.connector"
   ]
  },
  {
   "cell_type": "code",
   "execution_count": 3,
   "metadata": {},
   "outputs": [],
   "source": [
    "#Connect to Database and Use datafellowshipIYKRA database\n",
    "\n",
    "mydb = mysql.connector.connect(host='localhost', user='root', password='franklampard8')\n",
    "cur = mydb.cursor()\n",
    "\n",
    "def use_iykradatabase():\n",
    "    cur.execute(\"USE datafellowshipIYKRA\")\n",
    "    \n",
    "use_iykradatabase()"
   ]
  },
  {
   "cell_type": "code",
   "execution_count": 4,
   "metadata": {},
   "outputs": [
    {
     "data": {
      "text/plain": [
       "[('id', 'int(100)', 'NO', 'PRI', None, 'auto_increment'),\n",
       " ('Date', 'datetime', 'YES', '', None, ''),\n",
       " ('Sales', 'int(10)', 'YES', '', None, '')]"
      ]
     },
     "execution_count": 4,
     "metadata": {},
     "output_type": "execute_result"
    }
   ],
   "source": [
    "#Create sales table\n",
    "\n",
    "def create_table():\n",
    "    cur.execute(\"\"\"CREATE TABLE sales \n",
    "                (id INT(100) AUTO_INCREMENT PRIMARY KEY, \n",
    "                Date DATETIME,\n",
    "                Sales INT(10))\"\"\")\n",
    "    \n",
    "    cur.execute(\"DESCRIBE sales\")\n",
    "    \n",
    "    return cur.fetchall()\n",
    "\n",
    "create_table()"
   ]
  },
  {
   "cell_type": "code",
   "execution_count": 5,
   "metadata": {},
   "outputs": [
    {
     "name": "stdout",
     "output_type": "stream",
     "text": [
      "12 rows were inserted.\n"
     ]
    }
   ],
   "source": [
    "#Insert Values to Sales Table\n",
    "\n",
    "def insert_value():\n",
    "    sql = \"\"\"INSERT INTO sales(date, sales)\n",
    "             VALUES (%s,%s)\"\"\"\n",
    "    val = [('2021-01-01', 100),\n",
    "            ('2021-01-02', 34),\n",
    "            ('2021-01-02', 123),\n",
    "            ('2021-01-02', 134),\n",
    "            ('2021-01-03', 145),\n",
    "            ('2021-01-03', 24),\n",
    "            ('2021-01-04', 541),\n",
    "            ('2021-01-04', 636),\n",
    "            ('2021-01-05', 322),\n",
    "            ('2021-01-06', 242),\n",
    "            ('2021-01-07', 22),\n",
    "            ('2021-01-08', 46)]\n",
    "    \n",
    "    cur.executemany(sql, val)\n",
    "    \n",
    "    mydb.commit()\n",
    "    \n",
    "    print(cur.rowcount, \"rows were inserted.\")\n",
    "    \n",
    "insert_value()"
   ]
  },
  {
   "cell_type": "code",
   "execution_count": 6,
   "metadata": {},
   "outputs": [
    {
     "data": {
      "text/html": [
       "<div>\n",
       "<style scoped>\n",
       "    .dataframe tbody tr th:only-of-type {\n",
       "        vertical-align: middle;\n",
       "    }\n",
       "\n",
       "    .dataframe tbody tr th {\n",
       "        vertical-align: top;\n",
       "    }\n",
       "\n",
       "    .dataframe thead th {\n",
       "        text-align: right;\n",
       "    }\n",
       "</style>\n",
       "<table border=\"1\" class=\"dataframe\">\n",
       "  <thead>\n",
       "    <tr style=\"text-align: right;\">\n",
       "      <th></th>\n",
       "      <th>id</th>\n",
       "      <th>Date</th>\n",
       "      <th>Sales</th>\n",
       "      <th>rolling_sum</th>\n",
       "    </tr>\n",
       "  </thead>\n",
       "  <tbody>\n",
       "    <tr>\n",
       "      <th>0</th>\n",
       "      <td>1</td>\n",
       "      <td>2021-01-01</td>\n",
       "      <td>100</td>\n",
       "      <td>100.0</td>\n",
       "    </tr>\n",
       "    <tr>\n",
       "      <th>1</th>\n",
       "      <td>3</td>\n",
       "      <td>2021-01-02</td>\n",
       "      <td>123</td>\n",
       "      <td>291.0</td>\n",
       "    </tr>\n",
       "    <tr>\n",
       "      <th>2</th>\n",
       "      <td>4</td>\n",
       "      <td>2021-01-02</td>\n",
       "      <td>134</td>\n",
       "      <td>291.0</td>\n",
       "    </tr>\n",
       "    <tr>\n",
       "      <th>3</th>\n",
       "      <td>2</td>\n",
       "      <td>2021-01-02</td>\n",
       "      <td>34</td>\n",
       "      <td>291.0</td>\n",
       "    </tr>\n",
       "    <tr>\n",
       "      <th>4</th>\n",
       "      <td>5</td>\n",
       "      <td>2021-01-03</td>\n",
       "      <td>145</td>\n",
       "      <td>169.0</td>\n",
       "    </tr>\n",
       "    <tr>\n",
       "      <th>5</th>\n",
       "      <td>6</td>\n",
       "      <td>2021-01-03</td>\n",
       "      <td>24</td>\n",
       "      <td>169.0</td>\n",
       "    </tr>\n",
       "    <tr>\n",
       "      <th>6</th>\n",
       "      <td>7</td>\n",
       "      <td>2021-01-04</td>\n",
       "      <td>541</td>\n",
       "      <td>1177.0</td>\n",
       "    </tr>\n",
       "    <tr>\n",
       "      <th>7</th>\n",
       "      <td>8</td>\n",
       "      <td>2021-01-04</td>\n",
       "      <td>636</td>\n",
       "      <td>1177.0</td>\n",
       "    </tr>\n",
       "    <tr>\n",
       "      <th>8</th>\n",
       "      <td>9</td>\n",
       "      <td>2021-01-05</td>\n",
       "      <td>322</td>\n",
       "      <td>322.0</td>\n",
       "    </tr>\n",
       "    <tr>\n",
       "      <th>9</th>\n",
       "      <td>10</td>\n",
       "      <td>2021-01-06</td>\n",
       "      <td>242</td>\n",
       "      <td>242.0</td>\n",
       "    </tr>\n",
       "    <tr>\n",
       "      <th>10</th>\n",
       "      <td>11</td>\n",
       "      <td>2021-01-07</td>\n",
       "      <td>22</td>\n",
       "      <td>22.0</td>\n",
       "    </tr>\n",
       "    <tr>\n",
       "      <th>11</th>\n",
       "      <td>12</td>\n",
       "      <td>2021-01-08</td>\n",
       "      <td>46</td>\n",
       "      <td>46.0</td>\n",
       "    </tr>\n",
       "  </tbody>\n",
       "</table>\n",
       "</div>"
      ],
      "text/plain": [
       "    id       Date  Sales  rolling_sum\n",
       "0    1 2021-01-01    100        100.0\n",
       "1    3 2021-01-02    123        291.0\n",
       "2    4 2021-01-02    134        291.0\n",
       "3    2 2021-01-02     34        291.0\n",
       "4    5 2021-01-03    145        169.0\n",
       "5    6 2021-01-03     24        169.0\n",
       "6    7 2021-01-04    541       1177.0\n",
       "7    8 2021-01-04    636       1177.0\n",
       "8    9 2021-01-05    322        322.0\n",
       "9   10 2021-01-06    242        242.0\n",
       "10  11 2021-01-07     22         22.0\n",
       "11  12 2021-01-08     46         46.0"
      ]
     },
     "execution_count": 6,
     "metadata": {},
     "output_type": "execute_result"
    }
   ],
   "source": [
    "#Calculate rolling sum using windows function\n",
    "\n",
    "def rolling_sum():\n",
    "    sql = \"\"\"SELECT *, SUM(sales) OVER (PARTITION BY Date) rolling_sum\n",
    "             FROM sales\"\"\"\n",
    "    \n",
    "    df = pd.read_sql_query(sql, mydb)\n",
    "    \n",
    "    return df\n",
    "\n",
    "rolling_sum()"
   ]
  },
  {
   "cell_type": "code",
   "execution_count": null,
   "metadata": {},
   "outputs": [],
   "source": []
  },
  {
   "cell_type": "code",
   "execution_count": null,
   "metadata": {},
   "outputs": [],
   "source": []
  },
  {
   "cell_type": "code",
   "execution_count": null,
   "metadata": {},
   "outputs": [],
   "source": []
  },
  {
   "cell_type": "code",
   "execution_count": null,
   "metadata": {},
   "outputs": [],
   "source": []
  },
  {
   "cell_type": "code",
   "execution_count": null,
   "metadata": {},
   "outputs": [],
   "source": []
  }
 ],
 "metadata": {
  "kernelspec": {
   "display_name": "Python 3",
   "language": "python",
   "name": "python3"
  },
  "language_info": {
   "codemirror_mode": {
    "name": "ipython",
    "version": 3
   },
   "file_extension": ".py",
   "mimetype": "text/x-python",
   "name": "python",
   "nbconvert_exporter": "python",
   "pygments_lexer": "ipython3",
   "version": "3.7.4"
  }
 },
 "nbformat": 4,
 "nbformat_minor": 2
}
