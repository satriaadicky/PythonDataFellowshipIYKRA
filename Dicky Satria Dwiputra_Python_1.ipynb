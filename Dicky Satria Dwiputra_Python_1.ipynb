{
 "cells": [
  {
   "cell_type": "code",
   "execution_count": 2,
   "metadata": {},
   "outputs": [],
   "source": [
    "import pandas as pd\n",
    "import mysql.connector"
   ]
  },
  {
   "cell_type": "code",
   "execution_count": 29,
   "metadata": {},
   "outputs": [],
   "source": [
    "#Create Database datafellowshipIYKRA\n",
    "\n",
    "mydb = mysql.connector.connect(host='localhost', user='root', password='franklampard8')\n",
    "cur = mydb.cursor()\n",
    "\n",
    "def create_database():\n",
    "    cur.execute(\"CREATE DATABASE datafellowshipIYKRA\")\n",
    "    \n",
    "create_database()"
   ]
  },
  {
   "cell_type": "code",
   "execution_count": 30,
   "metadata": {
    "collapsed": true
   },
   "outputs": [
    {
     "data": {
      "text/plain": [
       "[('classicmodels',),\n",
       " ('coba',),\n",
       " ('consulting',),\n",
       " ('datafellowshipiykra',),\n",
       " ('db_epi',),\n",
       " ('db_lk',),\n",
       " ('db_puldatawas',),\n",
       " ('db_puldatawasnew',),\n",
       " ('db_reviu_lk',),\n",
       " ('db_rkakl',),\n",
       " ('db_simon',),\n",
       " ('db_sipedit',),\n",
       " ('db_sipinal',),\n",
       " ('db_sipinal_all',),\n",
       " ('db_sipinalnew',),\n",
       " ('db_sippisko',),\n",
       " ('dbsipinal',),\n",
       " ('dwh_eserap',),\n",
       " ('dwh_eserapp',),\n",
       " ('dwh_eserappp',),\n",
       " ('dwh_puldatawas',),\n",
       " ('dwh_reviu_lk',),\n",
       " ('dwh_rkakl',),\n",
       " ('dwh_sipinal',),\n",
       " ('dwh_sippisko',),\n",
       " ('eserap',),\n",
       " ('information_schema',),\n",
       " ('kampus',),\n",
       " ('kantor',),\n",
       " ('kemenkes',),\n",
       " ('multimatics',),\n",
       " ('mysql',),\n",
       " ('performance_schema',),\n",
       " ('phpmyadmin',),\n",
       " ('production',),\n",
       " ('store',),\n",
       " ('test',),\n",
       " ('toko',),\n",
       " ('universitas',)]"
      ]
     },
     "execution_count": 30,
     "metadata": {},
     "output_type": "execute_result"
    }
   ],
   "source": [
    "#Show databases to make sure a new database has been created\n",
    "\n",
    "def show_databases():\n",
    "    cur.execute(\"show databases\")\n",
    "    return cur.fetchall()\n",
    "\n",
    "show_databases()"
   ]
  },
  {
   "cell_type": "code",
   "execution_count": 35,
   "metadata": {},
   "outputs": [],
   "source": [
    "#Use datafellowshipIYKRA\n",
    "def use_iykradatabase():\n",
    "    cur.execute(\"USE datafellowshipIYKRA\")\n",
    "    \n",
    "use_iykradatabase()"
   ]
  },
  {
   "cell_type": "code",
   "execution_count": 36,
   "metadata": {},
   "outputs": [
    {
     "data": {
      "text/plain": [
       "[('id', 'int(100)', 'YES', '', None, ''),\n",
       " ('insert_time',\n",
       "  'timestamp',\n",
       "  'NO',\n",
       "  '',\n",
       "  'current_timestamp()',\n",
       "  'on update current_timestamp()'),\n",
       " ('tx_amount', 'float', 'YES', '', None, ''),\n",
       " ('tx_type', 'varchar(100)', 'YES', '', None, ''),\n",
       " ('status', 'varchar(100)', 'YES', '', None, '')]"
      ]
     },
     "execution_count": 36,
     "metadata": {},
     "output_type": "execute_result"
    }
   ],
   "source": [
    "#Create transactions table\n",
    "def create_table():\n",
    "    cur.execute(\"\"\"CREATE TABLE transactions \n",
    "                (id INT(100), \n",
    "                insert_time TIMESTAMP,\n",
    "                tx_amount FLOAT(10), \n",
    "                tx_type VARCHAR(100), \n",
    "                status VARCHAR(100))\"\"\")\n",
    "    \n",
    "    cur.execute(\"DESCRIBE transactions\")\n",
    "    \n",
    "    return cur.fetchall()\n",
    "\n",
    "create_table()"
   ]
  },
  {
   "cell_type": "code",
   "execution_count": 37,
   "metadata": {},
   "outputs": [
    {
     "name": "stdout",
     "output_type": "stream",
     "text": [
      "10 rows were inserted.\n"
     ]
    }
   ],
   "source": [
    "#insert values to transactions table\n",
    "\n",
    "def insert_value():\n",
    "    sql = \"\"\"INSERT INTO transactions(id, insert_time, tx_amount, tx_type, status)\n",
    "             VALUES (%s,%s,%s,%s,%s)\"\"\"\n",
    "    val = [(1, '2021-07-01', 2000, 'buy', 'open'),\n",
    "          (2, '2021-07-02', 3000, 'buy', 'open'),\n",
    "          (3, '2021-07-03', 4000, 'buy', 'open'),\n",
    "          (4, '2021-07-04', 5000, 'buy', 'open'),\n",
    "          (1, '2021-07-05', 6000, 'sell', 'closed'),\n",
    "          (2, '2021-07-06', 7000, 'sell', 'closed'),\n",
    "          (3, '2021-07-07', 8000, 'sell', 'closed'),\n",
    "          (4, '2021-07-08', 9000, 'sell', 'closed'),\n",
    "          (5, '2021-07-09', 10000, 'buy', 'open'),\n",
    "          (6, '2021-07-10', 11000, 'buy', 'open')]\n",
    "    \n",
    "    cur.executemany(sql, val)\n",
    "    \n",
    "    mydb.commit()\n",
    "    \n",
    "    print(cur.rowcount, \"rows were inserted.\")\n",
    "    \n",
    "insert_value()"
   ]
  },
  {
   "cell_type": "code",
   "execution_count": 41,
   "metadata": {},
   "outputs": [
    {
     "data": {
      "text/html": [
       "<div>\n",
       "<style scoped>\n",
       "    .dataframe tbody tr th:only-of-type {\n",
       "        vertical-align: middle;\n",
       "    }\n",
       "\n",
       "    .dataframe tbody tr th {\n",
       "        vertical-align: top;\n",
       "    }\n",
       "\n",
       "    .dataframe thead th {\n",
       "        text-align: right;\n",
       "    }\n",
       "</style>\n",
       "<table border=\"1\" class=\"dataframe\">\n",
       "  <thead>\n",
       "    <tr style=\"text-align: right;\">\n",
       "      <th></th>\n",
       "      <th>id</th>\n",
       "      <th>insert_time</th>\n",
       "      <th>tx_amount</th>\n",
       "      <th>tx_type</th>\n",
       "      <th>status</th>\n",
       "    </tr>\n",
       "  </thead>\n",
       "  <tbody>\n",
       "    <tr>\n",
       "      <th>0</th>\n",
       "      <td>1</td>\n",
       "      <td>2021-07-05</td>\n",
       "      <td>6000.0</td>\n",
       "      <td>sell</td>\n",
       "      <td>closed</td>\n",
       "    </tr>\n",
       "    <tr>\n",
       "      <th>1</th>\n",
       "      <td>2</td>\n",
       "      <td>2021-07-06</td>\n",
       "      <td>7000.0</td>\n",
       "      <td>sell</td>\n",
       "      <td>closed</td>\n",
       "    </tr>\n",
       "    <tr>\n",
       "      <th>2</th>\n",
       "      <td>3</td>\n",
       "      <td>2021-07-07</td>\n",
       "      <td>8000.0</td>\n",
       "      <td>sell</td>\n",
       "      <td>closed</td>\n",
       "    </tr>\n",
       "    <tr>\n",
       "      <th>3</th>\n",
       "      <td>4</td>\n",
       "      <td>2021-07-08</td>\n",
       "      <td>9000.0</td>\n",
       "      <td>sell</td>\n",
       "      <td>closed</td>\n",
       "    </tr>\n",
       "    <tr>\n",
       "      <th>4</th>\n",
       "      <td>5</td>\n",
       "      <td>2021-07-09</td>\n",
       "      <td>10000.0</td>\n",
       "      <td>buy</td>\n",
       "      <td>open</td>\n",
       "    </tr>\n",
       "    <tr>\n",
       "      <th>5</th>\n",
       "      <td>6</td>\n",
       "      <td>2021-07-10</td>\n",
       "      <td>11000.0</td>\n",
       "      <td>buy</td>\n",
       "      <td>open</td>\n",
       "    </tr>\n",
       "  </tbody>\n",
       "</table>\n",
       "</div>"
      ],
      "text/plain": [
       "   id insert_time  tx_amount tx_type  status\n",
       "0   1  2021-07-05     6000.0    sell  closed\n",
       "1   2  2021-07-06     7000.0    sell  closed\n",
       "2   3  2021-07-07     8000.0    sell  closed\n",
       "3   4  2021-07-08     9000.0    sell  closed\n",
       "4   5  2021-07-09    10000.0     buy    open\n",
       "5   6  2021-07-10    11000.0     buy    open"
      ]
     },
     "execution_count": 41,
     "metadata": {},
     "output_type": "execute_result"
    }
   ],
   "source": [
    "#select the most updated transaction for each id\n",
    "\n",
    "def most_updated_transactions():\n",
    "    sql = \"\"\"SELECT t.* FROM transactions t\n",
    "             INNER JOIN\n",
    "             (SELECT id, MAX(insert_time) AS Mostupdated\n",
    "             FROM transactions GROUP BY id) s \n",
    "             ON t.id = s.id\n",
    "             AND t.insert_time = s.mostupdated\"\"\"\n",
    "    df = pd.read_sql_query(sql, con=mydb)\n",
    "    \n",
    "    return df\n",
    "\n",
    "most_updated_transactions()"
   ]
  },
  {
   "cell_type": "code",
   "execution_count": null,
   "metadata": {},
   "outputs": [],
   "source": []
  },
  {
   "cell_type": "code",
   "execution_count": null,
   "metadata": {},
   "outputs": [],
   "source": []
  }
 ],
 "metadata": {
  "kernelspec": {
   "display_name": "Python 3",
   "language": "python",
   "name": "python3"
  },
  "language_info": {
   "codemirror_mode": {
    "name": "ipython",
    "version": 3
   },
   "file_extension": ".py",
   "mimetype": "text/x-python",
   "name": "python",
   "nbconvert_exporter": "python",
   "pygments_lexer": "ipython3",
   "version": "3.7.4"
  }
 },
 "nbformat": 4,
 "nbformat_minor": 2
}
