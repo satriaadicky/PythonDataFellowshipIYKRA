{
 "cells": [
  {
   "cell_type": "code",
   "execution_count": 167,
   "metadata": {},
   "outputs": [],
   "source": [
    "import pandas as pd"
   ]
  },
  {
   "cell_type": "code",
   "execution_count": 168,
   "metadata": {},
   "outputs": [],
   "source": [
    "#Put data in a variable\n",
    "\n",
    "data = [\n",
    "   {\n",
    "       \"user\": {\n",
    "           \"id\": 1,\n",
    "           \"name\": \"agus\",\n",
    "           \"email\": \"agus@example.com\"\n",
    "       },\n",
    "       \"txs\": [\n",
    "           {\n",
    "               \"id\": 1,\n",
    "               \"tx_date\": \"2020-01-01\",\n",
    "               \"tx_amount\": 10,\n",
    "               \"tx_type\": \"buy\"\n",
    "           },\n",
    "           {\n",
    "               \"id\": 3,\n",
    "               \"tx_date\": \"2020-02-01\",\n",
    "               \"tx_amount\": 10,\n",
    "               \"tx_type\": \"buy\"\n",
    "           },\n",
    "           {\n",
    "               \"id\": 5,\n",
    "               \"tx_date\": \"2020-03-01\",\n",
    "               \"tx_amount\": 20,\n",
    "               \"tx_type\": \"sell\"\n",
    "           }\n",
    "       ]\n",
    "   },\n",
    "   {\n",
    "       \"user\": {\n",
    "           \"id\": 2,\n",
    "           \"name\": \"asep\",\n",
    "           \"email\": \"asep@example.com\"\n",
    "       },\n",
    "       \"txs\": [\n",
    "           {\n",
    "               \"id\": 2,\n",
    "               \"tx_date\": \"2020-01-01\",\n",
    "               \"tx_amount\": 10,\n",
    "               \"tx_type\": \"sell\"\n",
    "           },\n",
    "           {\n",
    "               \"id\": 4,\n",
    "               \"tx_date\": \"2020-02-01\",\n",
    "               \"tx_amount\": 10,\n",
    "               \"tx_type\": \"sell\"\n",
    "           },\n",
    "           {\n",
    "               \"id\": 6,\n",
    "               \"tx_date\": \"2020-03-01\",\n",
    "               \"tx_amount\": 20,\n",
    "               \"tx_type\": \"buy\"\n",
    "           }\n",
    "       ]\n",
    "   }\n",
    "]"
   ]
  },
  {
   "cell_type": "markdown",
   "metadata": {},
   "source": [
    "### CSV 1"
   ]
  },
  {
   "cell_type": "code",
   "execution_count": 172,
   "metadata": {},
   "outputs": [],
   "source": [
    "#Parsing id from user in user_id variable\n",
    "\n",
    "user_id = []\n",
    "for i in data:\n",
    "    userlist = i['user']\n",
    "    for x in userlist:\n",
    "        user_id.append(userlist['id'])\n",
    "        \n",
    "#Parsing id from user in tx_id variable\n",
    "tx_id = []\n",
    "for i in data:\n",
    "    tsxlist = (i['txs'])\n",
    "    for i in tsxlist:\n",
    "        tx_id.append(i['id'])  \n",
    "        \n",
    "#Convert to dictionary and export as csv\n",
    "dict_id = {'user_id': user_id, 'tx_id': tx_id}\n",
    "df = pd.DataFrame(dict_id)\n",
    "df.to_csv('csv_1.csv', index=False)"
   ]
  },
  {
   "cell_type": "markdown",
   "metadata": {},
   "source": [
    "### CSV 2"
   ]
  },
  {
   "cell_type": "code",
   "execution_count": 173,
   "metadata": {},
   "outputs": [],
   "source": [
    "#Parsing user data in users variable\n",
    "\n",
    "users = []\n",
    "for i in data:\n",
    "    user = i['user']\n",
    "    users.append(user)\n",
    "    \n",
    "#Convert to Dataframe and Export to csv\n",
    "dfuser = pd.DataFrame(users)\n",
    "dfuser.to_csv('csv_2.csv', index=False)"
   ]
  },
  {
   "cell_type": "markdown",
   "metadata": {},
   "source": [
    "### CSV 3"
   ]
  },
  {
   "cell_type": "code",
   "execution_count": 174,
   "metadata": {},
   "outputs": [],
   "source": [
    "#Parsing txs data in txs variable\n",
    "\n",
    "txs = []\n",
    "for i in data:\n",
    "    tx = (i['txs'])\n",
    "    for x in tx:\n",
    "        txs.append(x)\n",
    "\n",
    "#Convert to Dataframe and Export to csv\n",
    "dftxs = pd.DataFrame(txs)\n",
    "dftxs.sort_values(by=['id'], inplace=True)\n",
    "dftxs.to_csv('csv_3.csv', index=False)"
   ]
  },
  {
   "cell_type": "code",
   "execution_count": 164,
   "metadata": {},
   "outputs": [],
   "source": []
  },
  {
   "cell_type": "code",
   "execution_count": 166,
   "metadata": {},
   "outputs": [],
   "source": []
  },
  {
   "cell_type": "code",
   "execution_count": null,
   "metadata": {},
   "outputs": [],
   "source": []
  },
  {
   "cell_type": "code",
   "execution_count": null,
   "metadata": {},
   "outputs": [],
   "source": []
  },
  {
   "cell_type": "code",
   "execution_count": null,
   "metadata": {},
   "outputs": [],
   "source": []
  },
  {
   "cell_type": "code",
   "execution_count": null,
   "metadata": {},
   "outputs": [],
   "source": []
  },
  {
   "cell_type": "code",
   "execution_count": null,
   "metadata": {},
   "outputs": [],
   "source": []
  }
 ],
 "metadata": {
  "kernelspec": {
   "display_name": "Python 3",
   "language": "python",
   "name": "python3"
  },
  "language_info": {
   "codemirror_mode": {
    "name": "ipython",
    "version": 3
   },
   "file_extension": ".py",
   "mimetype": "text/x-python",
   "name": "python",
   "nbconvert_exporter": "python",
   "pygments_lexer": "ipython3",
   "version": "3.7.4"
  }
 },
 "nbformat": 4,
 "nbformat_minor": 2
}
